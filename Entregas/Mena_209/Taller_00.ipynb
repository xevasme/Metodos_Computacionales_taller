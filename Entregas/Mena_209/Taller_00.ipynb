{
 "cells": [
  {
   "cell_type": "markdown",
   "metadata": {},
   "source": [
    "# Taller 0.0 de métodos computacionales para físicos  y astronomos\n",
    "## Universidad de Antioquia\n"
   ]
  },
  {
   "cell_type": "markdown",
   "metadata": {},
   "source": [
    "## Taller: Sesion 0.0"
   ]
  },
  {
   "cell_type": "markdown",
   "metadata": {},
   "source": [
    "## Unidad 1: \n",
    "\n",
    "- Repaso breve del Python\n",
    "- Estructura básica de un programa en Python.\n",
    "- Operaciones aritméticas con reales y complejos."
   ]
  },
  {
   "cell_type": "markdown",
   "metadata": {},
   "source": [
    "## Instrucciones de entrega\n",
    "\n",
    ">1. La solución del taller se debe entregar en un notebook de jupyter con el siguiente nombre:tallerNT_NB.ipynb`,  donde, `NT` y `NB` son el número de taller y el nombre respectivamente. Ejemplo: `Taller_00_DarioBlandon.ipynb`\n",
    "\n",
    ">2. Cada problema deberá ser una rutina que se puede ejecutar fácilmente, las celdas deben estar ejecutadas y no debe esperar entradas de teclado. \n",
    "\n",
    ">3. Si tiene algún inconveniente con los resultados esperados de algunos de los problemas, la rutina asociada a ese problema, deberá mostrar un mensaje de error. \n",
    "\n",
    ">4. Los programas deben de estar documentados y analizados cuando sea necesario. \n",
    "\n",
    ">5. Para un mayor entedimiento de cada programa, se sugiere escribir el código a un espacio, ver las notas de la sesion00.ipynb y analizar la forma de escritura de cada linea de  código. \n",
    "\n",
    "\n",
    "\n",
    "\n",
    "\n",
    "\n"
   ]
  },
  {
   "cell_type": "markdown",
   "metadata": {},
   "source": [
    "## Problemas\n",
    "**1**. Elaborar un algoritmo e implementar en python, **el doble factorial** de un número entero `n` ingresado por el usuario.\n",
    "     ### Ejemplo de Ejecución\n",
    "    ```python\n",
    "\n",
    "    >>> doblefactorial(3)\n",
    "        3\n",
    "\n",
    "    >>> doblefactorial(1987123)\n",
    "        =???\n",
    "```\n"
   ]
  },
  {
   "cell_type": "markdown",
   "metadata": {},
   "source": [
    "**2**. Diseñar un programa que lea dos numero `a` y `b` y diga que tipo de numero son, de a cuerdo a la siguiente clasificación:\n",
    "\n",
    " >- [Números defectivos](https://es.wikipedia.org/wiki/Número_defectivo) : la suma de los divisores propios es menor que el número.\n",
    " >- [Números abundantes](https://es.wikipedia.org/wiki/Número_abundante): la suma de los divisores es mayor que el número.\n",
    " >- [Números amigos](https://es.wikipedia.org/wiki/N%C3%BAmeros_amigos) `a` y `b` tales que a es la suma de los divisores propios de `b` y viceversa.\n",
    " >- [Números perfectos](https://es.wikipedia.org/wiki/N%C3%BAmero_perfecto) la suma de todos sus divisores propios, excepto el mismo numero, es igual al número.\n",
    " >- [Números primos](https://es.wikipedia.org/wiki/N%C3%BAmero_primo) el número es divisible unicamente por sí mismo y por 1.\n",
    " "
   ]
  },
  {
   "cell_type": "markdown",
   "metadata": {},
   "source": [
    " ### Ejemplo de Ejecución\n",
    "``` python\n",
    "\n",
    "    >>> clase_numero(a = 220, b =  284)\n",
    "        a = 220 y b = 284 son números amigos\n",
    "\n",
    "    >>> clase_numero(a = 24, b = 12 )\n",
    "        a = 24 es un numero abudante y b = 12 es un número defectivo. \n",
    "```\n"
   ]
  },
  {
   "cell_type": "markdown",
   "metadata": {},
   "source": [
    "**3**. Determine si un número `n` entero ingresado por el usuario es un [palíndromo](https://en.wikipedia.org/wiki/Palindromic_number), (Retorne `True` en caso afirmativo y `False` en caso contrario) \n",
    "\n",
    "```python\n",
    "\n",
    "\n",
    "    >>> palindromo(3333333)\n",
    "        True\n",
    "\n",
    "    >>> palindromo(232)\n",
    "        True\n",
    "        \n",
    "    >>> palindromo(1111349111111)\n",
    "        False\n",
    "```\n",
    "\n",
    "\n"
   ]
  },
  {
   "cell_type": "markdown",
   "metadata": {},
   "source": [
    "\n",
    "**4**. Dada una cadena de caracteres, entregar una lista donde se retorne:\n",
    ">- en la primera casilla: `True` si el caracter del medio es una vocal, `False` en caso contrario \n",
    ">- en la segunda: el numero de vocales en la cadena\n",
    ">- en la tercera: el numero de consonantes\n",
    ">- en la ultima: la cadena de caracteres invertida (ej: perro, orrep)\n",
    "\n",
    "### Ejemplo de Ejecución\n",
    "```python\n",
    "\n",
    ">>> cadena(s ='perro')\n",
    "[False, 2, 3, 'orrep']\n",
    "\n",
    ">>> cadena(s ='murcielago')\n",
    "[True, 5, 5, 'ogaleicrum']\n",
    "\n",
    "```\n"
   ]
  },
  {
   "cell_type": "markdown",
   "metadata": {},
   "source": [
    "\n",
    "**5**. Elabore un método para calcular los `x` numeros primos que existen en un intervalos dado por el usuario.\n",
    "\n",
    "\n",
    "### Ejemplo de Ejecución\n",
    "```python\n",
    "\n",
    ">>> primos(5,15):\n",
    "[5,7,11,13]\n",
    "\n",
    ">>>primos(1,20):\n",
    "[1,2,3,5,7,11,13,17,19]\n",
    "\n",
    "```\n"
   ]
  },
  {
   "cell_type": "markdown",
   "metadata": {},
   "source": [
    "\n",
    "6. Entrar un arreglo de números y ordenarlos de forma ascendente, Ver algoritmo\n",
    "[Quicksort](https://es.wikipedia.org/wiki/Quicksort). \n",
    "\n",
    "\n",
    "```python\n",
    "\n",
    "\n",
    "<<< v = [22, 32, 42, 12, 22, 31, 41, 11, 12, 232, 24, 12, 22]\n",
    "<<< def quicksort(v):\n",
    "\n",
    "<<<     return v\n",
    "<<< w = print(quicksort(v))\n",
    "<<< [11, 12, 12, 12, 22, 22, 22, 24, 31, 32, 41, 42, 232]\n",
    "\n",
    "```\n",
    "\n",
    "Sólo para comprobar tu código,  puedes hacer uso del comando sort de python. \n",
    "```python\n",
    "<<< b = [22, 32, 42, 12, 22, 31, 41, 11, 12, 232, 24, 12, 22]\n",
    "\n",
    "<<< print(b.sort())\n",
    "\n",
    "<<< [11, 12, 12, 12, 22, 22, 22, 24, 31, 32, 41, 42, 232]\n",
    "```"
   ]
  },
  {
   "cell_type": "markdown",
   "metadata": {},
   "source": [
    "## REFERENCIAS.\n",
    "\n",
    "[2] [Fundamenteos de programación](https://sites.google.com/site/funpropoli/ejercicios-practicos)\n",
    "\n",
    "[3] Scripts de un curso de python. [Fernando Perez](https://github.com/fperez)\n"
   ]
  },
  {
   "cell_type": "code",
   "execution_count": null,
   "metadata": {
    "collapsed": true
   },
   "outputs": [],
   "source": []
  }
 ],
 "metadata": {
  "kernelspec": {
   "display_name": "Python 3",
   "language": "python",
   "name": "python3"
  },
  "language_info": {
   "codemirror_mode": {
    "name": "ipython",
    "version": 3
   },
   "file_extension": ".py",
   "mimetype": "text/x-python",
   "name": "python",
   "nbconvert_exporter": "python",
   "pygments_lexer": "ipython3",
   "version": "3.7.3"
  }
 },
 "nbformat": 4,
 "nbformat_minor": 2
}
